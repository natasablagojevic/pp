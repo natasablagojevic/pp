{
 "cells": [
  {
   "cell_type": "code",
   "execution_count": 1,
   "metadata": {},
   "outputs": [],
   "source": [
    "import json \n",
    "import os \n",
    "import sys"
   ]
  },
  {
   "attachments": {},
   "cell_type": "markdown",
   "metadata": {},
   "source": [
    "#### Ucitavanje korpe"
   ]
  },
  {
   "cell_type": "code",
   "execution_count": 39,
   "metadata": {},
   "outputs": [
    {
     "name": "stdout",
     "output_type": "stream",
     "text": [
      "{'jabuke': 3.3, 'kruske': 2.1, 'grozdje': 2.6}\n"
     ]
    }
   ],
   "source": [
    "try:\n",
    "    kolicina = {}\n",
    "    with open('./korpa.json', 'r') as f:\n",
    "        korpa = json.load(f)\n",
    "        # print(korpa)\n",
    "        \n",
    "    niz = []\n",
    "    \n",
    "    for i in korpa:\n",
    "        # print(i)\n",
    "        for p in i.values():\n",
    "            # print(p)\n",
    "            # print()\n",
    "            niz.append(p)\n",
    "            \n",
    "    # print(niz)\n",
    "            \n",
    "    i = 0\n",
    "    n = len(niz) \n",
    "    \n",
    "    while i < n:\n",
    "        # print(niz[i], niz[i+1])\n",
    "        kolicina[niz[i]] = niz[i+1]\n",
    "        i += 2\n",
    "    \n",
    "    # kolicina krope za koju treba da odredimo cenu u svakoj prodavnici        \n",
    "    print(kolicina)\n",
    "    \n",
    "except:\n",
    "    sys.exit(\"Fatal error! Ne mozemo uctiati korpu.\")"
   ]
  },
  {
   "attachments": {},
   "cell_type": "markdown",
   "metadata": {},
   "source": [
    "#### Ucitavanje MAXI cena"
   ]
  },
  {
   "cell_type": "code",
   "execution_count": 43,
   "metadata": {},
   "outputs": [
    {
     "name": "stdout",
     "output_type": "stream",
     "text": [
      "{'jabuke': 59.9, 'kruske': 120, 'grozdje': 70, 'narandze': 49.9, 'breskve': 89.9}\n"
     ]
    }
   ],
   "source": [
    "try:    \n",
    "    with open('./maksi_cene.json', 'r') as f:\n",
    "        mc = json.load(f)\n",
    "        \n",
    "    niz = []\n",
    "    maxi = {}\n",
    "    \n",
    "    for i in mc:\n",
    "        for p in i.values():\n",
    "            # print(p)\n",
    "            niz.append(p) \n",
    "            \n",
    "    i = 0\n",
    "    n = len(niz) \n",
    "    \n",
    "    while i < n:\n",
    "        maxi[niz[i]] = niz[i+1]\n",
    "        \n",
    "        i += 2\n",
    "        \n",
    "    print(maxi)\n",
    "        \n",
    "except:\n",
    "    sys.exit('Fatal Error! Ne mozemo ucitati MAXI korpu')"
   ]
  },
  {
   "attachments": {},
   "cell_type": "markdown",
   "metadata": {},
   "source": [
    "#### IDEA cene"
   ]
  },
  {
   "cell_type": "code",
   "execution_count": 46,
   "metadata": {},
   "outputs": [
    {
     "name": "stdout",
     "output_type": "stream",
     "text": [
      "{'jabuke': 39.9, 'kruske': 100, 'grozdje': 90, 'breskve': 59.9}\n"
     ]
    }
   ],
   "source": [
    "try:\n",
    "    with open('./idea_cene.json', 'r') as f:\n",
    "        id = json.load(f) \n",
    "    \n",
    "    niz = []\n",
    "    idea = {}\n",
    "    \n",
    "    for i in id:\n",
    "        for p in i.values():\n",
    "            niz.append(p) \n",
    "            \n",
    "    i = 0\n",
    "    n = len(niz) \n",
    "    \n",
    "    while i < n:\n",
    "        idea[niz[i]] = niz[i+1]\n",
    "        \n",
    "        i += 2 \n",
    "        \n",
    "    print(idea)\n",
    "except:\n",
    "    sys.exit(\"Fatal Error! Ne mozete ucitati IDEA cene.\")"
   ]
  },
  {
   "attachments": {},
   "cell_type": "markdown",
   "metadata": {},
   "source": [
    "#### SHOPNGO cene"
   ]
  },
  {
   "cell_type": "code",
   "execution_count": 63,
   "metadata": {},
   "outputs": [
    {
     "name": "stdout",
     "output_type": "stream",
     "text": [
      "['jabuke', 69.9, 'kruske', 100, 'grozdje', 90, 'maline', 290]\n",
      "{'jabuke': 69.9, 'kruske': 100, 'grozdje': 90, 'maline': 290}\n"
     ]
    }
   ],
   "source": [
    "\n",
    "try:\n",
    "    with open('./shopngo_cene.json', 'r') as f:\n",
    "        sp = json.load(f)\n",
    "    \n",
    "    niz = []\n",
    "    shopngo = {}\n",
    "    \n",
    "    for i in sp:\n",
    "        for p in i.values():\n",
    "            niz.append(p) \n",
    "    print(niz)\n",
    "            \n",
    "    i = 0\n",
    "    n = len(niz) \n",
    "    \n",
    "    while i < n:\n",
    "        shopngo[niz[i]] = niz[i+1]\n",
    "        \n",
    "        i += 2 \n",
    "        \n",
    "    print(shopngo)\n",
    "except:\n",
    "    sys.exit(\"Fatal Error! Ne mozete ucitati IDEA cene.\")"
   ]
  },
  {
   "cell_type": "code",
   "execution_count": 65,
   "metadata": {},
   "outputs": [
    {
     "name": "stdout",
     "output_type": "stream",
     "text": [
      "Maxi:  631.67\n",
      "Idea:  575.67\n",
      "Shopngo:  674.6700000000001\n"
     ]
    }
   ],
   "source": [
    "\n",
    "cene_maxi = 0\n",
    "cene_idea = 0 \n",
    "cene_shopngo = 0\n",
    "\n",
    "for p in kolicina:\n",
    "    # print(p, kolicina[p])\n",
    "    \n",
    "    for it in maxi: \n",
    "        if it == p:\n",
    "            cene_maxi += maxi[it] * kolicina[p] \n",
    "            \n",
    "    for it in idea:\n",
    "        if it == p:\n",
    "            cene_idea += idea[it] * kolicina[p]\n",
    "            \n",
    "    for it in shopngo:\n",
    "        if it == p:\n",
    "            # print(it, shopngo[it])\n",
    "            cene_shopngo += shopngo[it] * kolicina[p]\n",
    "            \n",
    "            \n",
    "print(\"Maxi: \", cene_maxi)\n",
    "print(\"Idea: \", cene_idea)\n",
    "print(\"Shopngo: \", cene_shopngo)"
   ]
  }
 ],
 "metadata": {
  "kernelspec": {
   "display_name": "base",
   "language": "python",
   "name": "python3"
  },
  "language_info": {
   "codemirror_mode": {
    "name": "ipython",
    "version": 3
   },
   "file_extension": ".py",
   "mimetype": "text/x-python",
   "name": "python",
   "nbconvert_exporter": "python",
   "pygments_lexer": "ipython3",
   "version": "3.9.13"
  },
  "orig_nbformat": 4
 },
 "nbformat": 4,
 "nbformat_minor": 2
}
