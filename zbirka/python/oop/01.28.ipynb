{
 "cells": [
  {
   "cell_type": "code",
   "execution_count": 1,
   "metadata": {},
   "outputs": [],
   "source": [
    "class Robot:\n",
    "    population = 0\n",
    "    \n",
    "    def __init__(self, name) -> None:\n",
    "        self.name = name \n",
    "        Robot.population += 1\n",
    "        \n",
    "    def __del__(self):\n",
    "        Robot.population -= 1\n",
    "        \n",
    "    def oglasi_se(self):\n",
    "        print(f\"Zdravo! Ja sam {self.name}.\")\n",
    "    \n",
    "    @classmethod\n",
    "    def koliko(self):\n",
    "        print(f\"Ima nas: {Robot.population}\")"
   ]
  },
  {
   "cell_type": "code",
   "execution_count": 2,
   "metadata": {},
   "outputs": [],
   "source": [
    "r1 = Robot('ana')\n",
    "r2 = Robot('X11')"
   ]
  },
  {
   "cell_type": "code",
   "execution_count": 3,
   "metadata": {},
   "outputs": [
    {
     "name": "stdout",
     "output_type": "stream",
     "text": [
      "Zdravo! Ja sam ana.\n"
     ]
    }
   ],
   "source": [
    "r1.oglasi_se()"
   ]
  },
  {
   "cell_type": "code",
   "execution_count": 4,
   "metadata": {},
   "outputs": [
    {
     "name": "stdout",
     "output_type": "stream",
     "text": [
      "Zdravo! Ja sam X11.\n"
     ]
    }
   ],
   "source": [
    "r2.oglasi_se()"
   ]
  },
  {
   "cell_type": "code",
   "execution_count": 5,
   "metadata": {},
   "outputs": [
    {
     "name": "stdout",
     "output_type": "stream",
     "text": [
      "Ima nas: 2\n"
     ]
    }
   ],
   "source": [
    "Robot.koliko()"
   ]
  },
  {
   "cell_type": "code",
   "execution_count": 7,
   "metadata": {},
   "outputs": [],
   "source": [
    "del r1"
   ]
  },
  {
   "cell_type": "code",
   "execution_count": 8,
   "metadata": {},
   "outputs": [
    {
     "name": "stdout",
     "output_type": "stream",
     "text": [
      "Ima nas: 1\n"
     ]
    }
   ],
   "source": [
    "Robot.koliko()"
   ]
  }
 ],
 "metadata": {
  "kernelspec": {
   "display_name": "base",
   "language": "python",
   "name": "python3"
  },
  "language_info": {
   "codemirror_mode": {
    "name": "ipython",
    "version": 3
   },
   "file_extension": ".py",
   "mimetype": "text/x-python",
   "name": "python",
   "nbconvert_exporter": "python",
   "pygments_lexer": "ipython3",
   "version": "3.9.13"
  },
  "orig_nbformat": 4
 },
 "nbformat": 4,
 "nbformat_minor": 2
}
