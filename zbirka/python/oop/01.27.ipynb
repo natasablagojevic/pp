{
 "cells": [
  {
   "cell_type": "code",
   "execution_count": 8,
   "metadata": {},
   "outputs": [],
   "source": [
    "class Stek:\n",
    "    def __init__(self) -> None:\n",
    "        self.stek = []\n",
    "    \n",
    "    def push(self, elem):\n",
    "        self.stek.append(elem) \n",
    "    \n",
    "    def pop(self):\n",
    "        try:\n",
    "            return self.stek.pop()\n",
    "        except:\n",
    "            print(\"Stek je prazan!\")\n",
    "            return None \n",
    "    \n",
    "    def top(self):\n",
    "        try:\n",
    "            return self.stek[-1]\n",
    "        except:\n",
    "            print(\"stek je prazan\")\n",
    "            return None \n",
    "        \n",
    "    def __str__(self) -> str:\n",
    "        s = \"\"\n",
    "        \n",
    "    \n",
    "    def empty(self):\n",
    "        return True if len(self.stek) == 0 else False     "
   ]
  },
  {
   "cell_type": "code",
   "execution_count": 2,
   "metadata": {},
   "outputs": [],
   "source": [
    "s = Stek()"
   ]
  },
  {
   "cell_type": "code",
   "execution_count": 3,
   "metadata": {},
   "outputs": [],
   "source": [
    "s.push(3)\n",
    "s.push(4)\n",
    "s.push(5)"
   ]
  },
  {
   "cell_type": "code",
   "execution_count": 9,
   "metadata": {},
   "outputs": [
    {
     "name": "stdout",
     "output_type": "stream",
     "text": [
      "<__main__.Stek object at 0x7f509bc064c0>\n"
     ]
    }
   ],
   "source": [
    "print(s)"
   ]
  }
 ],
 "metadata": {
  "kernelspec": {
   "display_name": "base",
   "language": "python",
   "name": "python3"
  },
  "language_info": {
   "codemirror_mode": {
    "name": "ipython",
    "version": 3
   },
   "file_extension": ".py",
   "mimetype": "text/x-python",
   "name": "python",
   "nbconvert_exporter": "python",
   "pygments_lexer": "ipython3",
   "version": "3.9.13"
  },
  "orig_nbformat": 4
 },
 "nbformat": 4,
 "nbformat_minor": 2
}
