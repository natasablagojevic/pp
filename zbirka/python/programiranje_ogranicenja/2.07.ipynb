{
 "cells": [
  {
   "cell_type": "code",
   "execution_count": 13,
   "metadata": {},
   "outputs": [],
   "source": [
    "import constraint "
   ]
  },
  {
   "cell_type": "code",
   "execution_count": 14,
   "metadata": {},
   "outputs": [],
   "source": [
    "problem = constraint.Problem()"
   ]
  },
  {
   "cell_type": "code",
   "execution_count": 15,
   "metadata": {},
   "outputs": [],
   "source": [
    "problem.addVariable('X', range(1, 11))\n",
    "problem.addVariable('Y', range(1, 52, 2))\n",
    "problem.addVariable('Z', [i*10 for i in range(1, 11)])\n",
    "problem.addVariable('W', [i**3 for i in range(1, 11)])\n"
   ]
  },
  {
   "cell_type": "code",
   "execution_count": 16,
   "metadata": {},
   "outputs": [],
   "source": [
    "def f1(x, w):\n",
    "    return x >= 2*w \n",
    "\n",
    "def f2(y, z):\n",
    "    return 3+y <= z \n",
    "\n",
    "def f3(x, y, z, w):\n",
    "    return x-11*w+y+11*z <= 100"
   ]
  },
  {
   "cell_type": "code",
   "execution_count": 17,
   "metadata": {},
   "outputs": [],
   "source": [
    "problem.addConstraint(f1, ['X', 'W'])\n",
    "problem.addConstraint(f2, ['Y', 'Z'])\n",
    "problem.addConstraint(f3, ['X', 'Y', 'Z', 'W'])"
   ]
  },
  {
   "cell_type": "code",
   "execution_count": 19,
   "metadata": {},
   "outputs": [
    {
     "name": "stdout",
     "output_type": "stream",
     "text": [
      "Nema resenja\n"
     ]
    }
   ],
   "source": [
    "if problem.getSolutions() == []:\n",
    "    print('Nema resenja')\n",
    "else:\n",
    "    for result in problem.getSolutions():\n",
    "        print('X = {}, Y = {}, Z = {}, W = {}'.format(result['X'], result['Y'], result['Z'], result['W']))\n",
    "        print()"
   ]
  }
 ],
 "metadata": {
  "kernelspec": {
   "display_name": "base",
   "language": "python",
   "name": "python3"
  },
  "language_info": {
   "codemirror_mode": {
    "name": "ipython",
    "version": 3
   },
   "file_extension": ".py",
   "mimetype": "text/x-python",
   "name": "python",
   "nbconvert_exporter": "python",
   "pygments_lexer": "ipython3",
   "version": "3.9.13"
  },
  "orig_nbformat": 4
 },
 "nbformat": 4,
 "nbformat_minor": 2
}
