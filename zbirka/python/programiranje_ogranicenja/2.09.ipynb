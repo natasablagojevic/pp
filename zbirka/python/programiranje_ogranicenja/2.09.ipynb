{
 "cells": [
  {
   "cell_type": "code",
   "execution_count": 1,
   "metadata": {},
   "outputs": [],
   "source": [
    "import constraint"
   ]
  },
  {
   "cell_type": "code",
   "execution_count": 2,
   "metadata": {},
   "outputs": [],
   "source": [
    "problem = constraint.Problem()"
   ]
  },
  {
   "cell_type": "code",
   "execution_count": 3,
   "metadata": {},
   "outputs": [],
   "source": [
    "# hleb:  10min (mesanje), 300g (brasna), 7din (zarada)\n",
    "# kifla: 12min (mesanje), 120g (brasna), 9din (zarada)\n",
    "\n",
    "# 20h za mesanje peciva\n",
    "# 20kg brasna \n",
    "# ? za maksimalnu zaradu"
   ]
  },
  {
   "cell_type": "code",
   "execution_count": 4,
   "metadata": {},
   "outputs": [
    {
     "name": "stdout",
     "output_type": "stream",
     "text": [
      "Max zarada: 39 hleba, 67 kifla\n"
     ]
    }
   ],
   "source": [
    "problem.addVariable('H', range(121))\n",
    "problem.addVariable('K', range(68))\n",
    "\n",
    "def vreme(h, k):\n",
    "    return 10*h + 12*k <= 1200\n",
    "\n",
    "def matrijal(h, k):\n",
    "    return 300*h + 120*k <= 20000\n",
    "\n",
    "problem.addConstraint(vreme, ['H', 'K'])\n",
    "problem.addConstraint(matrijal, ['H', 'K'])\n",
    "\n",
    "max_resenje = {}\n",
    "max_value = 0\n",
    "\n",
    "for result in problem.getSolutions():\n",
    "    v = 7*result['H'] + 9*result['K']\n",
    "    \n",
    "    if v > max_value:\n",
    "        max_value = v \n",
    "        max_resenje = result \n",
    "        \n",
    "print('Max zarada: {} hleba, {} kifla'.format(max_resenje['H'], max_resenje['K']))"
   ]
  }
 ],
 "metadata": {
  "kernelspec": {
   "display_name": "base",
   "language": "python",
   "name": "python3"
  },
  "language_info": {
   "codemirror_mode": {
    "name": "ipython",
    "version": 3
   },
   "file_extension": ".py",
   "mimetype": "text/x-python",
   "name": "python",
   "nbconvert_exporter": "python",
   "pygments_lexer": "ipython3",
   "version": "3.9.13"
  },
  "orig_nbformat": 4
 },
 "nbformat": 4,
 "nbformat_minor": 2
}
