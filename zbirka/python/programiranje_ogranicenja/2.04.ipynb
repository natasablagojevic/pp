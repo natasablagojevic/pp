{
 "cells": [
  {
   "cell_type": "code",
   "execution_count": 1,
   "metadata": {},
   "outputs": [],
   "source": [
    "import constraint"
   ]
  },
  {
   "attachments": {},
   "cell_type": "markdown",
   "metadata": {},
   "source": [
    "#### Generisanje promenljivih i domena"
   ]
  },
  {
   "cell_type": "code",
   "execution_count": 6,
   "metadata": {},
   "outputs": [
    {
     "name": "stdout",
     "output_type": "stream",
     "text": [
      "-----------\n",
      "6   1   8\n",
      "7   5   3\n",
      "2   9   4\n",
      "-----------\n",
      "\n",
      "-----------\n",
      "6   7   2\n",
      "1   5   9\n",
      "8   3   4\n",
      "-----------\n",
      "\n",
      "-----------\n",
      "8   1   6\n",
      "3   5   7\n",
      "4   9   2\n",
      "-----------\n",
      "\n",
      "-----------\n",
      "8   3   4\n",
      "1   5   9\n",
      "6   7   2\n",
      "-----------\n",
      "\n",
      "-----------\n",
      "4   3   8\n",
      "9   5   1\n",
      "2   7   6\n",
      "-----------\n",
      "\n",
      "-----------\n",
      "4   9   2\n",
      "3   5   7\n",
      "8   1   6\n",
      "-----------\n",
      "\n",
      "-----------\n",
      "2   9   4\n",
      "7   5   3\n",
      "6   1   8\n",
      "-----------\n",
      "\n",
      "-----------\n",
      "2   7   6\n",
      "9   5   1\n",
      "4   3   8\n",
      "-----------\n",
      "\n"
     ]
    }
   ],
   "source": [
    "problem = constraint.Problem()\n",
    "\n",
    "#   A   B   C\n",
    "#   D   E   F\n",
    "#   G   H   I\n",
    "\n",
    "problem.addVariable('A', range(1,10))\n",
    "problem.addVariable('B', range(1, 10))\n",
    "problem.addVariable('C', range(1, 10))\n",
    "\n",
    "problem.addVariable('D', range(1, 10))\n",
    "problem.addVariable('E', range(1, 10))\n",
    "problem.addVariable('F', range(1, 10))\n",
    "\n",
    "problem.addVariable('G', range(1, 10))\n",
    "problem.addVariable('H', range(1, 10))   \n",
    "problem.addVariable('I', range(1, 10))\n",
    "\n",
    "\n",
    "def f(x, y, z):\n",
    "    return x+y+z == 15\n",
    "\n",
    "\n",
    "problem.addConstraint(constraint.AllDifferentConstraint())\n",
    "problem.addConstraint(f, ['A', 'B', 'C'])\n",
    "problem.addConstraint(f, ['D', 'E', 'F'])\n",
    "problem.addConstraint(f, ['G', 'H', 'I'])\n",
    "problem.addConstraint(f, ['A', 'D', 'G'])\n",
    "problem.addConstraint(f, ['B', 'E', 'H'])\n",
    "problem.addConstraint(f, ['C', 'F', 'I'])\n",
    "problem.addConstraint(f, ['A', 'E', 'I'])\n",
    "problem.addConstraint(f, ['C', 'E', 'G'])\n",
    "\n",
    "for result in problem.getSolutions():\n",
    "    print('-----------')\n",
    "    print('{}   {}   {}'.format(result['A'], result['B'], result['C']))\n",
    "    print('{}   {}   {}'.format(result['D'], result['E'], result['F']))\n",
    "    print('{}   {}   {}'.format(result['G'], result['H'], result['I']))\n",
    "    print('-----------')\n",
    "    print()"
   ]
  }
 ],
 "metadata": {
  "kernelspec": {
   "display_name": "base",
   "language": "python",
   "name": "python3"
  },
  "language_info": {
   "codemirror_mode": {
    "name": "ipython",
    "version": 3
   },
   "file_extension": ".py",
   "mimetype": "text/x-python",
   "name": "python",
   "nbconvert_exporter": "python",
   "pygments_lexer": "ipython3",
   "version": "3.9.13"
  },
  "orig_nbformat": 4
 },
 "nbformat": 4,
 "nbformat_minor": 2
}
