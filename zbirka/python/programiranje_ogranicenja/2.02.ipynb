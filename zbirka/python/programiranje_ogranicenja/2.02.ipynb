{
 "cells": [
  {
   "cell_type": "code",
   "execution_count": 1,
   "metadata": {},
   "outputs": [],
   "source": [
    "import constraint"
   ]
  },
  {
   "attachments": {},
   "cell_type": "markdown",
   "metadata": {},
   "source": [
    "# Definisanje promenljivih i ogranicenja"
   ]
  },
  {
   "cell_type": "code",
   "execution_count": 3,
   "metadata": {},
   "outputs": [
    {
     "name": "stdout",
     "output_type": "stream",
     "text": [
      "189\n"
     ]
    }
   ],
   "source": [
    "problem = constraint.Problem()\n",
    "\n",
    "problem.addVariable('A', range(1, 10))\n",
    "problem.addVariables('BC', range(10))\n",
    "\n",
    "def func(A, B, C):\n",
    "    pass \n",
    "\n",
    "problem.addConstraint(constraint.AllDifferentConstraint(), 'ABC')\n",
    "\n",
    "min_kolicnik = 999\n",
    "min_resenje = {}\n",
    "\n",
    "for result in problem.getSolutions():\n",
    "    # print(result)\n",
    "    a = result['A']\n",
    "    b = result['B']\n",
    "    c = result['C']\n",
    "    \n",
    "    kolicnik = (a*100+b*10+c)/(a+b+c)\n",
    "    \n",
    "    if kolicnik < min_kolicnik:\n",
    "        min_kolicnik = kolicnik \n",
    "        min_resenje = result \n",
    "        \n",
    "print(100*min_resenje['A']+10*min_resenje['B']+min_resenje['C'])"
   ]
  }
 ],
 "metadata": {
  "kernelspec": {
   "display_name": "base",
   "language": "python",
   "name": "python3"
  },
  "language_info": {
   "codemirror_mode": {
    "name": "ipython",
    "version": 3
   },
   "file_extension": ".py",
   "mimetype": "text/x-python",
   "name": "python",
   "nbconvert_exporter": "python",
   "pygments_lexer": "ipython3",
   "version": "3.9.13"
  },
  "orig_nbformat": 4
 },
 "nbformat": 4,
 "nbformat_minor": 2
}
