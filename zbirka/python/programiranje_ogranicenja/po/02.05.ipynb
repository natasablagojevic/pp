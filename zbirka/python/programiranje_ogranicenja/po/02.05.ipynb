{
 "cells": [
  {
   "cell_type": "code",
   "execution_count": 1,
   "metadata": {},
   "outputs": [],
   "source": [
    "import constraint "
   ]
  },
  {
   "cell_type": "code",
   "execution_count": 2,
   "metadata": {},
   "outputs": [],
   "source": [
    "problem = constraint.Problem()"
   ]
  },
  {
   "cell_type": "code",
   "execution_count": 6,
   "metadata": {},
   "outputs": [],
   "source": [
    "problem.addVariable('X', range(1, 91))\n",
    "problem.addVariable('Y', [2*i for i in range(1,31)])\n",
    "problem.addVariable('Z', [i**2 for i in range(1, 11)])"
   ]
  },
  {
   "cell_type": "code",
   "execution_count": 7,
   "metadata": {},
   "outputs": [],
   "source": [
    "def f1(x, z):\n",
    "    return x >= z \n",
    "\n",
    "def f2(x, y, z):\n",
    "    return 2*x + x*y + z <= 34 "
   ]
  },
  {
   "cell_type": "code",
   "execution_count": 8,
   "metadata": {},
   "outputs": [],
   "source": [
    "problem.addConstraint(f1, ['X', 'Z'])\n",
    "problem.addConstraint(f2, ['X', 'Y', 'Z'])"
   ]
  },
  {
   "cell_type": "code",
   "execution_count": 10,
   "metadata": {},
   "outputs": [
    {
     "name": "stdout",
     "output_type": "stream",
     "text": [
      "X = 7, Y = 2, Z = 4\n",
      "X = 6, Y = 2, Z = 4\n",
      "X = 5, Y = 4, Z = 4\n",
      "X = 5, Y = 2, Z = 4\n",
      "X = 4, Y = 4, Z = 4\n",
      "X = 4, Y = 2, Z = 4\n",
      "X = 3, Y = 8, Z = 1\n",
      "X = 3, Y = 6, Z = 1\n",
      "X = 3, Y = 4, Z = 1\n",
      "X = 3, Y = 2, Z = 1\n",
      "X = 2, Y = 14, Z = 1\n",
      "X = 2, Y = 12, Z = 1\n",
      "X = 2, Y = 10, Z = 1\n",
      "X = 2, Y = 8, Z = 1\n",
      "X = 2, Y = 6, Z = 1\n",
      "X = 2, Y = 4, Z = 1\n",
      "X = 2, Y = 2, Z = 1\n",
      "X = 1, Y = 30, Z = 1\n",
      "X = 1, Y = 28, Z = 1\n",
      "X = 1, Y = 26, Z = 1\n",
      "X = 1, Y = 24, Z = 1\n",
      "X = 1, Y = 22, Z = 1\n",
      "X = 1, Y = 20, Z = 1\n",
      "X = 1, Y = 18, Z = 1\n",
      "X = 1, Y = 16, Z = 1\n",
      "X = 1, Y = 14, Z = 1\n",
      "X = 1, Y = 12, Z = 1\n",
      "X = 1, Y = 10, Z = 1\n",
      "X = 1, Y = 8, Z = 1\n",
      "X = 1, Y = 6, Z = 1\n",
      "X = 1, Y = 4, Z = 1\n",
      "X = 1, Y = 2, Z = 1\n",
      "X = 8, Y = 2, Z = 1\n",
      "X = 7, Y = 2, Z = 1\n",
      "X = 6, Y = 2, Z = 1\n",
      "X = 5, Y = 4, Z = 1\n",
      "X = 5, Y = 2, Z = 1\n",
      "X = 4, Y = 6, Z = 1\n",
      "X = 4, Y = 4, Z = 1\n",
      "X = 4, Y = 2, Z = 1\n"
     ]
    }
   ],
   "source": [
    "results = problem.getSolutions()\n",
    "\n",
    "for result in results:\n",
    "    # print(result)\n",
    "    print(f\"X = {result['X']}, Y = {result['Y']}, Z = {result['Z']}\")"
   ]
  }
 ],
 "metadata": {
  "kernelspec": {
   "display_name": "base",
   "language": "python",
   "name": "python3"
  },
  "language_info": {
   "codemirror_mode": {
    "name": "ipython",
    "version": 3
   },
   "file_extension": ".py",
   "mimetype": "text/x-python",
   "name": "python",
   "nbconvert_exporter": "python",
   "pygments_lexer": "ipython3",
   "version": "3.9.13"
  },
  "orig_nbformat": 4
 },
 "nbformat": 4,
 "nbformat_minor": 2
}
