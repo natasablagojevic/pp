{
 "cells": [
  {
   "cell_type": "code",
   "execution_count": 1,
   "metadata": {},
   "outputs": [],
   "source": [
    "import constraint "
   ]
  },
  {
   "cell_type": "code",
   "execution_count": 2,
   "metadata": {},
   "outputs": [],
   "source": [
    "problem = constraint.Problem()"
   ]
  },
  {
   "cell_type": "code",
   "execution_count": 4,
   "metadata": {},
   "outputs": [],
   "source": [
    "problem.addVariables('TF', range(1, 10))\n",
    "problem.addVariables('WOUR', range(0, 10))"
   ]
  },
  {
   "cell_type": "code",
   "execution_count": 5,
   "metadata": {},
   "outputs": [],
   "source": [
    "def f(t, w, o, f, u, r):\n",
    "    return 2*(100*t + 10*w + o) == 1000*f + 100*o + 10*u + r"
   ]
  },
  {
   "cell_type": "code",
   "execution_count": 6,
   "metadata": {},
   "outputs": [],
   "source": [
    "problem.addConstraint(constraint.AllDifferentConstraint())\n",
    "problem.addConstraint(f, ['T', 'W', 'O', 'F', 'U', 'R'])"
   ]
  },
  {
   "cell_type": "code",
   "execution_count": 7,
   "metadata": {},
   "outputs": [
    {
     "name": "stdout",
     "output_type": "stream",
     "text": [
      "{'F': 1, 'T': 7, 'O': 5, 'R': 0, 'U': 3, 'W': 6}\n",
      "{'F': 1, 'T': 7, 'O': 4, 'R': 8, 'U': 6, 'W': 3}\n",
      "{'F': 1, 'T': 8, 'O': 7, 'R': 4, 'U': 3, 'W': 6}\n",
      "{'F': 1, 'T': 8, 'O': 6, 'R': 2, 'U': 9, 'W': 4}\n",
      "{'F': 1, 'T': 8, 'O': 6, 'R': 2, 'U': 7, 'W': 3}\n",
      "{'F': 1, 'T': 9, 'O': 8, 'R': 6, 'U': 5, 'W': 2}\n",
      "{'F': 1, 'T': 9, 'O': 8, 'R': 6, 'U': 7, 'W': 3}\n"
     ]
    }
   ],
   "source": [
    "results = problem.getSolutions()\n",
    "\n",
    "for result in results:\n",
    "    print(result)"
   ]
  }
 ],
 "metadata": {
  "kernelspec": {
   "display_name": "base",
   "language": "python",
   "name": "python3"
  },
  "language_info": {
   "codemirror_mode": {
    "name": "ipython",
    "version": 3
   },
   "file_extension": ".py",
   "mimetype": "text/x-python",
   "name": "python",
   "nbconvert_exporter": "python",
   "pygments_lexer": "ipython3",
   "version": "3.9.13"
  },
  "orig_nbformat": 4
 },
 "nbformat": 4,
 "nbformat_minor": 2
}
