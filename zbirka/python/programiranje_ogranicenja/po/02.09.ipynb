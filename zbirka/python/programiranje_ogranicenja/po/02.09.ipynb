{
 "cells": [
  {
   "cell_type": "code",
   "execution_count": 11,
   "metadata": {},
   "outputs": [],
   "source": [
    "import constraint "
   ]
  },
  {
   "cell_type": "code",
   "execution_count": 12,
   "metadata": {},
   "outputs": [],
   "source": [
    "# h 10min, 300g brasna, 7din    = max 67brasna   120 vremena\n",
    "# k 12min, 120g brasna, 9din    = max 167brasna  100 vremena\n",
    "# ----------------------------\n",
    "# 20sati i 20kg brasna\n",
    "\n",
    "# koliko hleba i kifli treba umesiti da bi se ostvarila max zarada"
   ]
  },
  {
   "cell_type": "code",
   "execution_count": 13,
   "metadata": {},
   "outputs": [],
   "source": [
    "problem = constraint.Problem()"
   ]
  },
  {
   "cell_type": "code",
   "execution_count": 14,
   "metadata": {},
   "outputs": [],
   "source": [
    "def vreme(h, k):\n",
    "    return 10*h + 12*k <= 20*60"
   ]
  },
  {
   "cell_type": "code",
   "execution_count": 15,
   "metadata": {},
   "outputs": [],
   "source": [
    "def brasno(h, k):\n",
    "    return 300*h + 120*k <= 20*1000"
   ]
  },
  {
   "cell_type": "code",
   "execution_count": 16,
   "metadata": {},
   "outputs": [],
   "source": [
    "problem.addVariable('h', range(121))\n",
    "problem.addVariable('k', range(101))"
   ]
  },
  {
   "cell_type": "code",
   "execution_count": 17,
   "metadata": {},
   "outputs": [],
   "source": [
    "problem.addConstraint(vreme, ['h', 'k'])\n",
    "problem.addConstraint(brasno, ['h', 'k'])"
   ]
  },
  {
   "cell_type": "code",
   "execution_count": 18,
   "metadata": {},
   "outputs": [],
   "source": [
    "def evaluate_dins(h, k):\n",
    "    return 7*h + 9*k\n",
    "    "
   ]
  },
  {
   "cell_type": "code",
   "execution_count": 22,
   "metadata": {},
   "outputs": [],
   "source": [
    "max_h = 0\n",
    "max_k = 0 \n",
    "max_mapa = {}\n",
    "\n",
    "results = problem.getSolutions()\n",
    "\n",
    "for result in results:\n",
    "    sum = evaluate_dins(result['h'], result['k'])\n",
    "    \n",
    "    if sum > evaluate_dins(max_h, max_k):\n",
    "        max_h = result['h']\n",
    "        max_k = result['k']\n",
    "        max_mapa = result "
   ]
  },
  {
   "cell_type": "code",
   "execution_count": 23,
   "metadata": {},
   "outputs": [
    {
     "data": {
      "text/plain": [
       "{'k': 100, 'h': 0}"
      ]
     },
     "execution_count": 23,
     "metadata": {},
     "output_type": "execute_result"
    }
   ],
   "source": [
    "max_mapa"
   ]
  }
 ],
 "metadata": {
  "kernelspec": {
   "display_name": "base",
   "language": "python",
   "name": "python3"
  },
  "language_info": {
   "codemirror_mode": {
    "name": "ipython",
    "version": 3
   },
   "file_extension": ".py",
   "mimetype": "text/x-python",
   "name": "python",
   "nbconvert_exporter": "python",
   "pygments_lexer": "ipython3",
   "version": "3.9.13"
  },
  "orig_nbformat": 4
 },
 "nbformat": 4,
 "nbformat_minor": 2
}
