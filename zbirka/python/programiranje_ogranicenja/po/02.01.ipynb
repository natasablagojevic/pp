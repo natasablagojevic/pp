{
 "cells": [
  {
   "cell_type": "code",
   "execution_count": 1,
   "metadata": {},
   "outputs": [],
   "source": [
    "import constraint "
   ]
  },
  {
   "cell_type": "code",
   "execution_count": 2,
   "metadata": {},
   "outputs": [],
   "source": [
    "problem = constraint.Problem()"
   ]
  },
  {
   "cell_type": "code",
   "execution_count": 3,
   "metadata": {},
   "outputs": [],
   "source": [
    "problem.addVariable('x', ['a', 'b', 'c'])\n",
    "problem.addVariable('y', [1, 2, 3])\n",
    "problem.addVariable('z', [0.1, 0.2, 0.3])"
   ]
  },
  {
   "cell_type": "code",
   "execution_count": 4,
   "metadata": {},
   "outputs": [],
   "source": [
    "def f(y, z):\n",
    "    return 10*z == y"
   ]
  },
  {
   "cell_type": "code",
   "execution_count": 5,
   "metadata": {},
   "outputs": [],
   "source": [
    "problem.addConstraint(f, ['y', 'z'])"
   ]
  },
  {
   "cell_type": "code",
   "execution_count": 6,
   "metadata": {},
   "outputs": [
    {
     "name": "stdout",
     "output_type": "stream",
     "text": [
      "{'y': 3, 'z': 0.3, 'x': 'c'}\n",
      "{'y': 3, 'z': 0.3, 'x': 'b'}\n",
      "{'y': 3, 'z': 0.3, 'x': 'a'}\n",
      "{'y': 2, 'z': 0.2, 'x': 'c'}\n",
      "{'y': 2, 'z': 0.2, 'x': 'b'}\n",
      "{'y': 2, 'z': 0.2, 'x': 'a'}\n",
      "{'y': 1, 'z': 0.1, 'x': 'c'}\n",
      "{'y': 1, 'z': 0.1, 'x': 'b'}\n",
      "{'y': 1, 'z': 0.1, 'x': 'a'}\n"
     ]
    }
   ],
   "source": [
    "for result in problem.getSolutions():\n",
    "    print(result)"
   ]
  }
 ],
 "metadata": {
  "kernelspec": {
   "display_name": "base",
   "language": "python",
   "name": "python3"
  },
  "language_info": {
   "codemirror_mode": {
    "name": "ipython",
    "version": 3
   },
   "file_extension": ".py",
   "mimetype": "text/x-python",
   "name": "python",
   "nbconvert_exporter": "python",
   "pygments_lexer": "ipython3",
   "version": "3.9.13"
  },
  "orig_nbformat": 4
 },
 "nbformat": 4,
 "nbformat_minor": 2
}
