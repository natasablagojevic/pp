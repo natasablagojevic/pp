{
 "cells": [
  {
   "cell_type": "code",
   "execution_count": 1,
   "metadata": {},
   "outputs": [],
   "source": [
    "import constraint"
   ]
  },
  {
   "cell_type": "code",
   "execution_count": 2,
   "metadata": {},
   "outputs": [],
   "source": [
    "problem = constraint.Problem()"
   ]
  },
  {
   "cell_type": "code",
   "execution_count": 3,
   "metadata": {},
   "outputs": [],
   "source": [
    "#   A   B   C\n",
    "#   D   E   F\n",
    "#   G   H   I "
   ]
  },
  {
   "cell_type": "code",
   "execution_count": 4,
   "metadata": {},
   "outputs": [],
   "source": [
    "problem.addVariables('ABCDEFGHI', range(1, 10))"
   ]
  },
  {
   "cell_type": "code",
   "execution_count": 5,
   "metadata": {},
   "outputs": [],
   "source": [
    "def f(x, y, z):\n",
    "    return x + y + z == 15"
   ]
  },
  {
   "cell_type": "code",
   "execution_count": 7,
   "metadata": {},
   "outputs": [],
   "source": [
    "problem.addConstraint(f, ['A', 'B', 'C'])\n",
    "problem.addConstraint(f, ['D', 'E', 'F'])\n",
    "problem.addConstraint(f, ['G', 'H', 'I'])\n",
    "\n",
    "problem.addConstraint(f, ['A', 'D', 'G'])\n",
    "problem.addConstraint(f, ['B', 'E', 'H'])\n",
    "problem.addConstraint(f, ['C', 'F', 'I'])\n",
    "\n",
    "problem.addConstraint(f, ['A', 'E', 'I'])\n",
    "problem.addConstraint(f, ['C', 'E', 'G'])\n",
    "problem.addConstraint(constraint.AllDifferentConstraint())"
   ]
  },
  {
   "cell_type": "code",
   "execution_count": 18,
   "metadata": {},
   "outputs": [
    {
     "name": "stdout",
     "output_type": "stream",
     "text": [
      "===========\n",
      "||6  7  2||\n",
      "||1  5  9||\n",
      "||8  3  4||\n",
      "===========\n",
      "\n",
      "===========\n",
      "||6  1  8||\n",
      "||7  5  3||\n",
      "||2  9  4||\n",
      "===========\n",
      "\n",
      "===========\n",
      "||8  1  6||\n",
      "||3  5  7||\n",
      "||4  9  2||\n",
      "===========\n",
      "\n",
      "===========\n",
      "||8  3  4||\n",
      "||1  5  9||\n",
      "||6  7  2||\n",
      "===========\n",
      "\n",
      "===========\n",
      "||2  7  6||\n",
      "||9  5  1||\n",
      "||4  3  8||\n",
      "===========\n",
      "\n",
      "===========\n",
      "||2  9  4||\n",
      "||7  5  3||\n",
      "||6  1  8||\n",
      "===========\n",
      "\n",
      "===========\n",
      "||4  9  2||\n",
      "||3  5  7||\n",
      "||8  1  6||\n",
      "===========\n",
      "\n",
      "===========\n",
      "||4  3  8||\n",
      "||9  5  1||\n",
      "||2  7  6||\n",
      "===========\n",
      "\n"
     ]
    }
   ],
   "source": [
    "results = problem.getSolutions()\n",
    "\n",
    "for result in results:\n",
    "    print(\"===========\")\n",
    "    print(f\"||{result['A']}  {result['B']}  {result['C']}||\")\n",
    "    print(f\"||{result['D']}  {result['E']}  {result['F']}||\")\n",
    "    print(f\"||{result['G']}  {result['H']}  {result['I']}||\")\n",
    "    print(\"===========\")\n",
    "    print()"
   ]
  }
 ],
 "metadata": {
  "kernelspec": {
   "display_name": "base",
   "language": "python",
   "name": "python3"
  },
  "language_info": {
   "codemirror_mode": {
    "name": "ipython",
    "version": 3
   },
   "file_extension": ".py",
   "mimetype": "text/x-python",
   "name": "python",
   "nbconvert_exporter": "python",
   "pygments_lexer": "ipython3",
   "version": "3.9.13"
  },
  "orig_nbformat": 4
 },
 "nbformat": 4,
 "nbformat_minor": 2
}
