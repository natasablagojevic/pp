{
 "cells": [
  {
   "cell_type": "code",
   "execution_count": 2,
   "metadata": {},
   "outputs": [],
   "source": [
    "import sys \n",
    "import os\n",
    "import json"
   ]
  },
  {
   "cell_type": "code",
   "execution_count": 4,
   "metadata": {},
   "outputs": [
    {
     "name": "stdout",
     "output_type": "stream",
     "text": [
      "{'A': [10.0, 1.1], 'B': [1.0, 15.0], 'C': [-1.0, 5.0]}\n"
     ]
    }
   ],
   "source": [
    "try:\n",
    "    with open('./tacke.json', 'r') as f:\n",
    "        t = json.load(f) \n",
    "    \n",
    "    tacke = {}\n",
    "    niz = []\n",
    "    \n",
    "    for i in t:\n",
    "        for p in i.values():\n",
    "            # print(p)\n",
    "            niz.append(p)\n",
    "            \n",
    "    i = 0\n",
    "    n = len(niz) \n",
    "    \n",
    "    while i < n:\n",
    "        tacke[niz[i]] = niz[i+1]\n",
    "        i += 2 \n",
    "        \n",
    "    print(tacke)\n",
    "     \n",
    "      \n",
    "except:\n",
    "    sys.exit(\"Fatal Erorr! Datoteka ne postoji!\")"
   ]
  },
  {
   "cell_type": "code",
   "execution_count": 5,
   "metadata": {},
   "outputs": [],
   "source": [
    "def kv_rastojanje(x, y):\n",
    "    return (x-0)**2 + (y-0)**2"
   ]
  },
  {
   "cell_type": "code",
   "execution_count": 16,
   "metadata": {},
   "outputs": [],
   "source": [
    "def kv(x, y):\n",
    "    if x > 0 and y > 0:\n",
    "        return 1 \n",
    "    elif x < 0 and y > 0:\n",
    "        return 2\n",
    "    elif x < 0 and y < 0:\n",
    "        return 3 \n",
    "    else:\n",
    "        return 4"
   ]
  },
  {
   "cell_type": "code",
   "execution_count": 10,
   "metadata": {},
   "outputs": [],
   "source": [
    "try:\n",
    "    kvadrant = int(input(\"Unesi kvandrant: \"))\n",
    "    \n",
    "    if kvadrant not in [1, 2, 3, 4]:\n",
    "        raise \"Nije kvandrant!\"\n",
    "except:\n",
    "    sys.exit(\"Fatal Erorr! Niste uneli kvadrant\")"
   ]
  },
  {
   "cell_type": "code",
   "execution_count": 29,
   "metadata": {},
   "outputs": [
    {
     "name": "stdout",
     "output_type": "stream",
     "text": [
      "B\n"
     ]
    }
   ],
   "source": [
    "results = []\n",
    "\n",
    "for p in tacke:\n",
    "    X = tacke[p][0]\n",
    "    Y = tacke[p][1]\n",
    "\n",
    "    # print(f\"({X}, {Y})\")\n",
    "    \n",
    "    rastojanje = kv_rastojanje(X, Y)\n",
    "    # print(rastojanje)\n",
    "    \n",
    "    # tupple: rastojanje, kvadrant, tacka\n",
    "    pair = (rastojanje, kv(X, Y), p)\n",
    "    \n",
    "    results.append(pair)\n",
    "    \n",
    "    \n",
    "    # print(\"--------------\") \n",
    "    \n",
    "results.sort(reverse=True)\n",
    "# print(results)\n",
    "\n",
    "max_taka = ''\n",
    "max_rastojanje = 0\n",
    "\n",
    "for x in results:\n",
    "    if x[1] == kvadrant:\n",
    "        if x[0] >= max_rastojanje:\n",
    "            max_rastojanje = x[0]\n",
    "            max_taka = x[2]\n",
    "            \n",
    "print(max_taka)"
   ]
  }
 ],
 "metadata": {
  "kernelspec": {
   "display_name": "base",
   "language": "python",
   "name": "python3"
  },
  "language_info": {
   "codemirror_mode": {
    "name": "ipython",
    "version": 3
   },
   "file_extension": ".py",
   "mimetype": "text/x-python",
   "name": "python",
   "nbconvert_exporter": "python",
   "pygments_lexer": "ipython3",
   "version": "3.9.13"
  },
  "orig_nbformat": 4
 },
 "nbformat": 4,
 "nbformat_minor": 2
}
